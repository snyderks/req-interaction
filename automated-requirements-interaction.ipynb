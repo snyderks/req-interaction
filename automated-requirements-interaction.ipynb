{
 "cells": [
  {
   "cell_type": "raw",
   "metadata": {},
   "source": [
    "# ASN3 - Automated Requirements Interaction\n",
    "\n",
    "In order to analyze requirements interaction, we first need a list of requirements.\n",
    "Our requirements will be in the following format:\n",
    "\n",
    "```\n",
    "USX: User story title\n",
    "\n",
    "As a: target role\n",
    "I want to: perform an action\n",
    "So that: a goal is met\n",
    "```\n",
    "\n",
    "I'll use a class to store a story. There won't be many actions here; it'll mainly act as a named structure type."
   ]
  },
  {
   "cell_type": "code",
   "execution_count": 44,
   "metadata": {
    "collapsed": true
   },
   "outputs": [],
   "source": [
    "class Story:\n",
    "    \"\"\"\n",
    "    Story contains all known data about a given user story.\n",
    "    \"\"\"\n",
    "    def __init__(self, number, title, role, action, goal):\n",
    "        self.number = number\n",
    "        self.title = title\n",
    "        self.role = role\n",
    "        self.action = action\n",
    "        self.goal = goal\n",
    "        \n",
    "    def __repr__(self):\n",
    "        return self.__str__()\n",
    "        \n",
    "    def __str__(self):\n",
    "        return (\"Story \" + str(self.number) + \": \" + self.title +\n",
    "               \" As a \" + self.role + \", I would like to \" + self.action +\n",
    "               \" so that: \" + self.goal)"
   ]
  },
  {
   "cell_type": "markdown",
   "metadata": {},
   "source": [
    "Now I set up the regex to parse the file (in the above formats) with."
   ]
  },
  {
   "cell_type": "code",
   "execution_count": 45,
   "metadata": {
    "collapsed": true
   },
   "outputs": [],
   "source": [
    "# This set of regex matches the format above, \n",
    "# extracting (each section corresponds to a captured element)\n",
    "# 1. The number (X above)\n",
    "# 2. The story's title\n",
    "# 3. User role, action, or goal\n",
    "re_num = \"(?:US)(\\d+)\"\n",
    "re_title = \"(?:\\W*)(.+)\"\n",
    "re_detail = \"(?:[\\w\\s]+:\\s*)(.+)\"\n",
    "# Each index of the array will be what we search for.\n",
    "searches = [re_num + re_title, re_detail, re_detail, re_detail]"
   ]
  },
  {
   "cell_type": "markdown",
   "metadata": {},
   "source": [
    "Finally, we set up the file for parsing and get an array of stories."
   ]
  },
  {
   "cell_type": "code",
   "execution_count": 46,
   "metadata": {
    "collapsed": true,
    "scrolled": true
   },
   "outputs": [],
   "source": [
    "import re\n",
    "import sys\n",
    "stories = []\n",
    "\n",
    "curr_story = []\n",
    "index = 0\n",
    "\n",
    "\n",
    "with open(\"stories.txt\") as s:\n",
    "    for line in s:\n",
    "        # can't capture anything\n",
    "        if len(line) is 0 or line.isspace():\n",
    "            pass\n",
    "        # try and parse the line\n",
    "        else:\n",
    "            r = re.search(searches[index], line)\n",
    "            if r == None:\n",
    "                sys.exit(\"Failed to parse line.\")\n",
    "            curr_story.append(r.groups(0)[0])\n",
    "            if index == 0:\n",
    "                curr_story.append(r.groups(1)[1])\n",
    "            index += 1\n",
    "            if index >= 4:\n",
    "                stories.append(Story(int(curr_story[0]), *curr_story[1:]))\n",
    "                index = 0\n",
    "                curr_story = []"
   ]
  },
  {
   "cell_type": "markdown",
   "metadata": {},
   "source": [
    "Now we have an array of stories. Here's an example of the result:"
   ]
  },
  {
   "cell_type": "code",
   "execution_count": 18,
   "metadata": {},
   "outputs": [
    {
     "name": "stdout",
     "output_type": "stream",
     "text": [
      "Story 1: User abilities - super-duper-user As a system user, I would like to be a super-duper-user so that: I have access to all system abilities, including the ability to view restricted content, and to assign roles\n"
     ]
    }
   ],
   "source": [
    "print(stories[0])"
   ]
  },
  {
   "cell_type": "markdown",
   "metadata": {},
   "source": [
    "That's a lot of text, but it doesn't tell us much.\n",
    "\n",
    "---\n",
    "\n",
    "## Natural Language Processing\n",
    "For this task (and lots of others), I'll be employing a library called [spaCy](https://spacy.io). spaCy could be better referred to as an NLP toolkit, written in Cython. This allows it to take advantage of the simplicity and expressiveness of Python while still utilizing the blazing speed of compiled C."
   ]
  },
  {
   "cell_type": "markdown",
   "metadata": {},
   "source": [
    "Here's a small piece of text we'll analyze."
   ]
  },
  {
   "cell_type": "code",
   "execution_count": 1,
   "metadata": {
    "collapsed": true
   },
   "outputs": [],
   "source": [
    "text = \"\"\"On Unix and Unix-like computer operating systems, a zombie process or defunct process is a process that has completed execution (via the exit system call) but still has an entry in the process table: it is a process in the \"Terminated state\". This occurs for child processes, where the entry is still needed to allow the parent process to read its child's exit status: once the exit status is read via the wait system call, the zombie's entry is removed from the process table and it is said to be \"reaped\". A child process always first becomes a zombie before being removed from the resource table. In most cases, under normal system operation zombies are immediately waited on by their parent and then reaped by the system – processes that stay zombies for a long time are generally an error and cause a resource leak.\n",
    "The term zombie process derives from the common definition of zombie — an undead person. In the term's metaphor, the child process has \"died\" but has not yet been \"reaped\". Also, unlike normal processes, the kill command has no effect on a zombie process.\n",
    "Zombie processes should not be confused with orphan processes: an orphan process is a process that is still executing, but whose parent has died. These do not remain as zombie processes; instead, (like all orphaned processes) they are adopted by init (process ID 1), which waits on its children. The result is that a process that is both a zombie and an orphan will be reaped automatically.\"\"\""
   ]
  },
  {
   "cell_type": "code",
   "execution_count": 15,
   "metadata": {},
   "outputs": [
    {
     "name": "stdout",
     "output_type": "stream",
     "text": [
      "be a super-duper-user compared with be a super-duper-user\n",
      "0.999999987867\n",
      "be a super-duper-user compared with be able to designate roles to user accounts\n",
      "0.360403269612\n",
      "be a super-duper-user compared with be a super-user\n",
      "0.903838203828\n",
      "be a super-duper-user compared with add users to a workgroup\n",
      "0.428586439198\n",
      "be a super-duper-user compared with hide objects\n",
      "0.361153475569\n",
      "be a super-duper-user compared with set different levels of editing rights based on individual user(s)\n",
      "0.372441500027\n",
      "be a super-duper-user compared with embargo content\n",
      "0.311382344599\n",
      "be a super-duper-user compared with have access to the master files\n",
      "0.425561429019\n",
      "be a super-duper-user compared with designate public access levels for workgroup content once it is published\n",
      "0.442165713863\n",
      "be a super-duper-user compared with control which users can send submissions to me\n",
      "0.216929744028\n",
      "be a super-duper-user compared with create a workgroup\n",
      "0.48377817286\n",
      "be a super-duper-user compared with create a workgroup of files out of all of the files in a workgroup of works\n",
      "0.528958885866\n",
      "be a super-duper-user compared with add notes to my workgroup\n",
      "0.397584799502\n",
      "be a super-duper-user compared with add a simple title and description to my workgroup\n",
      "0.512063547392\n",
      "be a super-duper-user compared with add existing objects to a workgroup\n",
      "0.486770496003\n",
      "be a super-duper-user compared with designate public access levels for workgroup content once it is published\n",
      "0.442165713863\n",
      "be a super-duper-user compared with add values to all records in workgroup\n",
      "0.3234276269\n",
      "be a super-duper-user compared with add content to a workgroup\n",
      "0.484614479488\n",
      "be a super-duper-user compared with the system to automatically record transactional information about content in a workgroup\n",
      "0.497658654174\n",
      "be a super-duper-user compared with members of a workgroup to inherit rights metadata from the workgroup\n",
      "0.572857974409\n",
      "be a super-duper-user compared with generate SHA-256 checksum values for all files in the workgroup\n",
      "0.464763545074\n",
      "be a super-duper-user compared with determine technical characteristics of all files in the workgroup\n",
      "0.501927431797\n",
      "be a super-duper-user compared with delete unneeded files from the system\n",
      "0.468815213363\n",
      "be a super-duper-user compared with the system to batch execute an action on files in the system\n",
      "0.448066459653\n",
      "be a super-duper-user compared with create a template for potential files that will be associated with a work or other digital content\n",
      "0.615127715499\n",
      "be a super-duper-user compared with batch ingest records from .csv files and automatically match to corresponding images\n",
      "0.419638739192\n",
      "be a super-duper-user compared with the system to generate access files from preservation files\n",
      "0.399036994471\n",
      "be a super-duper-user compared with create a collection of files to display to a user by topic (or other criteria) and to organize the files in a collection as needed\n",
      "0.543290475649\n",
      "be a super-duper-user compared with publish a collection and view the date the collection was uploaded along with the ability to add an internal description of the collection\n",
      "0.480347271833\n",
      "be a super-duper-user compared with create a sub-collection that is a part of a larger parent collection\n",
      "0.653305135471\n",
      "be a super-duper-user compared with upload a directory that may contain sub-directories\n",
      "0.528359843269\n",
      "be a super-duper-user compared with replace a bitstream on a file\n",
      "0.453427644867\n",
      "be a super-duper-user compared with screen my deposit for potential viruses\n",
      "0.441930423351\n",
      "be a super-duper-user compared with the system to record a log of all change events to all objects\n",
      "0.423893738127\n",
      "be a super-duper-user compared with use the site to submit files to a librarian managing the repository\n",
      "0.407279351715\n",
      "be a super-duper-user compared with use VRA Core for collections, work records, and images\n",
      "0.265741405547\n",
      "be a super-duper-user compared with incorporate the Getty Vocabularies into the UCRATE ingest form\n",
      "0.454503184982\n",
      "be a super-duper-user compared with be notified when a UC staff member deposits files in the system\n",
      "0.404498844177\n",
      "be a super-duper-user compared with deposit files into the repository when instructed by the records retention schedule to send to Archives\n",
      "0.433230796629\n",
      "be a super-duper-user compared with use email to submit files to a librarian managing the repository\n",
      "0.433572664957\n",
      "be a super-duper-user compared with enter values for the appropriate elements for each work\n",
      "0.383948726244\n",
      "be a super-duper-user compared with check students' metadata entries and sort which records haven't been verified\n",
      "0.306367338544\n",
      "be a super-duper-user compared with the system to automatically determine important technical metadata\n",
      "0.511302247937\n",
      "be a super-duper-user compared with add some simple description to my submission\n",
      "0.399301148533\n",
      "be a super-duper-user compared with designate fields from my EAD file that will describe works (i.e. objects in the PCDM)\n",
      "0.448279659456\n",
      "be a super-duper-user compared with import an EAD file to stage a collection\n",
      "0.470690317232\n",
      "be a super-duper-user compared with any files submitted to be automatically tagged with metadata about the submission\n",
      "0.471885996147\n"
     ]
    }
   ],
   "source": [
    "import spacy\n",
    "\n",
    "nlp = spacy.load('en')\n",
    "\n",
    "parsed = [nlp(s.action) for s in stories]\n",
    "\n",
    "for i in range(len(stories)):\n",
    "    print(parsed[0], \"compared with\", parsed[i])\n",
    "    print(parsed[0].similarity(parsed[i]))"
   ]
  },
  {
   "cell_type": "code",
   "execution_count": null,
   "metadata": {
    "collapsed": true
   },
   "outputs": [],
   "source": []
  }
 ],
 "metadata": {
  "kernelspec": {
   "display_name": "Python 3",
   "language": "python",
   "name": "python3"
  },
  "language_info": {
   "codemirror_mode": {
    "name": "ipython",
    "version": 3
   },
   "file_extension": ".py",
   "mimetype": "text/x-python",
   "name": "python",
   "nbconvert_exporter": "python",
   "pygments_lexer": "ipython3",
   "version": "3.6.3"
  }
 },
 "nbformat": 4,
 "nbformat_minor": 2
}
